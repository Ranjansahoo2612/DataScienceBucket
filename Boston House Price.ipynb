{
 "cells": [
  {
   "cell_type": "code",
   "execution_count": 1,
   "metadata": {},
   "outputs": [],
   "source": [
    "# Importing required library\n",
    "import numpy as np\n",
    "import pandas as pd\n",
    "import matplotlib.pyplot as plt\n",
    "import seaborn as sns\n",
    "%matplotlib inline\n",
    "sns.set_palette('coolwarm')\n",
    "\n",
    "from sklearn.model_selection import train_test_split\n",
    "from sklearn.linear_model import LinearRegression\n",
    "lr = LinearRegression()\n",
    "from sklearn.preprocessing import PolynomialFeatures\n",
    "\n",
    "from sklearn.metrics import mean_squared_error, r2_score"
   ]
  },
  {
   "cell_type": "code",
   "execution_count": 2,
   "metadata": {},
   "outputs": [],
   "source": [
    "# Importing files\n",
    "train = pd.read_csv('/Users/ranjansahoo/Downloads/boston-housing/train.csv')\n",
    "test = pd.read_csv('/Users/ranjansahoo/Downloads/boston-housing/test.csv')"
   ]
  },
  {
   "cell_type": "code",
   "execution_count": 3,
   "metadata": {},
   "outputs": [
    {
     "data": {
      "text/html": [
       "<div>\n",
       "<style scoped>\n",
       "    .dataframe tbody tr th:only-of-type {\n",
       "        vertical-align: middle;\n",
       "    }\n",
       "\n",
       "    .dataframe tbody tr th {\n",
       "        vertical-align: top;\n",
       "    }\n",
       "\n",
       "    .dataframe thead th {\n",
       "        text-align: right;\n",
       "    }\n",
       "</style>\n",
       "<table border=\"1\" class=\"dataframe\">\n",
       "  <thead>\n",
       "    <tr style=\"text-align: right;\">\n",
       "      <th></th>\n",
       "      <th>ID</th>\n",
       "      <th>crim</th>\n",
       "      <th>zn</th>\n",
       "      <th>indus</th>\n",
       "      <th>chas</th>\n",
       "      <th>nox</th>\n",
       "      <th>rm</th>\n",
       "      <th>age</th>\n",
       "      <th>dis</th>\n",
       "      <th>rad</th>\n",
       "      <th>tax</th>\n",
       "      <th>ptratio</th>\n",
       "      <th>black</th>\n",
       "      <th>lstat</th>\n",
       "      <th>medv</th>\n",
       "    </tr>\n",
       "  </thead>\n",
       "  <tbody>\n",
       "    <tr>\n",
       "      <th>0</th>\n",
       "      <td>1</td>\n",
       "      <td>0.00632</td>\n",
       "      <td>18.0</td>\n",
       "      <td>2.31</td>\n",
       "      <td>0</td>\n",
       "      <td>0.538</td>\n",
       "      <td>6.575</td>\n",
       "      <td>65.2</td>\n",
       "      <td>4.0900</td>\n",
       "      <td>1</td>\n",
       "      <td>296</td>\n",
       "      <td>15.3</td>\n",
       "      <td>396.90</td>\n",
       "      <td>4.98</td>\n",
       "      <td>24.0</td>\n",
       "    </tr>\n",
       "    <tr>\n",
       "      <th>1</th>\n",
       "      <td>2</td>\n",
       "      <td>0.02731</td>\n",
       "      <td>0.0</td>\n",
       "      <td>7.07</td>\n",
       "      <td>0</td>\n",
       "      <td>0.469</td>\n",
       "      <td>6.421</td>\n",
       "      <td>78.9</td>\n",
       "      <td>4.9671</td>\n",
       "      <td>2</td>\n",
       "      <td>242</td>\n",
       "      <td>17.8</td>\n",
       "      <td>396.90</td>\n",
       "      <td>9.14</td>\n",
       "      <td>21.6</td>\n",
       "    </tr>\n",
       "    <tr>\n",
       "      <th>2</th>\n",
       "      <td>4</td>\n",
       "      <td>0.03237</td>\n",
       "      <td>0.0</td>\n",
       "      <td>2.18</td>\n",
       "      <td>0</td>\n",
       "      <td>0.458</td>\n",
       "      <td>6.998</td>\n",
       "      <td>45.8</td>\n",
       "      <td>6.0622</td>\n",
       "      <td>3</td>\n",
       "      <td>222</td>\n",
       "      <td>18.7</td>\n",
       "      <td>394.63</td>\n",
       "      <td>2.94</td>\n",
       "      <td>33.4</td>\n",
       "    </tr>\n",
       "    <tr>\n",
       "      <th>3</th>\n",
       "      <td>5</td>\n",
       "      <td>0.06905</td>\n",
       "      <td>0.0</td>\n",
       "      <td>2.18</td>\n",
       "      <td>0</td>\n",
       "      <td>0.458</td>\n",
       "      <td>7.147</td>\n",
       "      <td>54.2</td>\n",
       "      <td>6.0622</td>\n",
       "      <td>3</td>\n",
       "      <td>222</td>\n",
       "      <td>18.7</td>\n",
       "      <td>396.90</td>\n",
       "      <td>5.33</td>\n",
       "      <td>36.2</td>\n",
       "    </tr>\n",
       "    <tr>\n",
       "      <th>4</th>\n",
       "      <td>7</td>\n",
       "      <td>0.08829</td>\n",
       "      <td>12.5</td>\n",
       "      <td>7.87</td>\n",
       "      <td>0</td>\n",
       "      <td>0.524</td>\n",
       "      <td>6.012</td>\n",
       "      <td>66.6</td>\n",
       "      <td>5.5605</td>\n",
       "      <td>5</td>\n",
       "      <td>311</td>\n",
       "      <td>15.2</td>\n",
       "      <td>395.60</td>\n",
       "      <td>12.43</td>\n",
       "      <td>22.9</td>\n",
       "    </tr>\n",
       "  </tbody>\n",
       "</table>\n",
       "</div>"
      ],
      "text/plain": [
       "   ID     crim    zn  indus  chas    nox     rm   age     dis  rad  tax  \\\n",
       "0   1  0.00632  18.0   2.31     0  0.538  6.575  65.2  4.0900    1  296   \n",
       "1   2  0.02731   0.0   7.07     0  0.469  6.421  78.9  4.9671    2  242   \n",
       "2   4  0.03237   0.0   2.18     0  0.458  6.998  45.8  6.0622    3  222   \n",
       "3   5  0.06905   0.0   2.18     0  0.458  7.147  54.2  6.0622    3  222   \n",
       "4   7  0.08829  12.5   7.87     0  0.524  6.012  66.6  5.5605    5  311   \n",
       "\n",
       "   ptratio   black  lstat  medv  \n",
       "0     15.3  396.90   4.98  24.0  \n",
       "1     17.8  396.90   9.14  21.6  \n",
       "2     18.7  394.63   2.94  33.4  \n",
       "3     18.7  396.90   5.33  36.2  \n",
       "4     15.2  395.60  12.43  22.9  "
      ]
     },
     "execution_count": 3,
     "metadata": {},
     "output_type": "execute_result"
    }
   ],
   "source": [
    "# Viewing the head of train\n",
    "train.head()"
   ]
  },
  {
   "cell_type": "code",
   "execution_count": 4,
   "metadata": {},
   "outputs": [
    {
     "data": {
      "text/plain": [
       "(333, 15)"
      ]
     },
     "execution_count": 4,
     "metadata": {},
     "output_type": "execute_result"
    }
   ],
   "source": [
    "# Checking the shape\n",
    "train.shape"
   ]
  },
  {
   "cell_type": "code",
   "execution_count": 5,
   "metadata": {},
   "outputs": [
    {
     "data": {
      "text/html": [
       "<div>\n",
       "<style scoped>\n",
       "    .dataframe tbody tr th:only-of-type {\n",
       "        vertical-align: middle;\n",
       "    }\n",
       "\n",
       "    .dataframe tbody tr th {\n",
       "        vertical-align: top;\n",
       "    }\n",
       "\n",
       "    .dataframe thead th {\n",
       "        text-align: right;\n",
       "    }\n",
       "</style>\n",
       "<table border=\"1\" class=\"dataframe\">\n",
       "  <thead>\n",
       "    <tr style=\"text-align: right;\">\n",
       "      <th></th>\n",
       "      <th>ID</th>\n",
       "      <th>crim</th>\n",
       "      <th>zn</th>\n",
       "      <th>indus</th>\n",
       "      <th>chas</th>\n",
       "      <th>nox</th>\n",
       "      <th>rm</th>\n",
       "      <th>age</th>\n",
       "      <th>dis</th>\n",
       "      <th>rad</th>\n",
       "      <th>tax</th>\n",
       "      <th>ptratio</th>\n",
       "      <th>black</th>\n",
       "      <th>lstat</th>\n",
       "    </tr>\n",
       "  </thead>\n",
       "  <tbody>\n",
       "    <tr>\n",
       "      <th>0</th>\n",
       "      <td>3</td>\n",
       "      <td>0.02729</td>\n",
       "      <td>0.0</td>\n",
       "      <td>7.07</td>\n",
       "      <td>0</td>\n",
       "      <td>0.469</td>\n",
       "      <td>7.185</td>\n",
       "      <td>61.1</td>\n",
       "      <td>4.9671</td>\n",
       "      <td>2</td>\n",
       "      <td>242</td>\n",
       "      <td>17.8</td>\n",
       "      <td>392.83</td>\n",
       "      <td>4.03</td>\n",
       "    </tr>\n",
       "    <tr>\n",
       "      <th>1</th>\n",
       "      <td>6</td>\n",
       "      <td>0.02985</td>\n",
       "      <td>0.0</td>\n",
       "      <td>2.18</td>\n",
       "      <td>0</td>\n",
       "      <td>0.458</td>\n",
       "      <td>6.430</td>\n",
       "      <td>58.7</td>\n",
       "      <td>6.0622</td>\n",
       "      <td>3</td>\n",
       "      <td>222</td>\n",
       "      <td>18.7</td>\n",
       "      <td>394.12</td>\n",
       "      <td>5.21</td>\n",
       "    </tr>\n",
       "    <tr>\n",
       "      <th>2</th>\n",
       "      <td>8</td>\n",
       "      <td>0.14455</td>\n",
       "      <td>12.5</td>\n",
       "      <td>7.87</td>\n",
       "      <td>0</td>\n",
       "      <td>0.524</td>\n",
       "      <td>6.172</td>\n",
       "      <td>96.1</td>\n",
       "      <td>5.9505</td>\n",
       "      <td>5</td>\n",
       "      <td>311</td>\n",
       "      <td>15.2</td>\n",
       "      <td>396.90</td>\n",
       "      <td>19.15</td>\n",
       "    </tr>\n",
       "    <tr>\n",
       "      <th>3</th>\n",
       "      <td>9</td>\n",
       "      <td>0.21124</td>\n",
       "      <td>12.5</td>\n",
       "      <td>7.87</td>\n",
       "      <td>0</td>\n",
       "      <td>0.524</td>\n",
       "      <td>5.631</td>\n",
       "      <td>100.0</td>\n",
       "      <td>6.0821</td>\n",
       "      <td>5</td>\n",
       "      <td>311</td>\n",
       "      <td>15.2</td>\n",
       "      <td>386.63</td>\n",
       "      <td>29.93</td>\n",
       "    </tr>\n",
       "    <tr>\n",
       "      <th>4</th>\n",
       "      <td>10</td>\n",
       "      <td>0.17004</td>\n",
       "      <td>12.5</td>\n",
       "      <td>7.87</td>\n",
       "      <td>0</td>\n",
       "      <td>0.524</td>\n",
       "      <td>6.004</td>\n",
       "      <td>85.9</td>\n",
       "      <td>6.5921</td>\n",
       "      <td>5</td>\n",
       "      <td>311</td>\n",
       "      <td>15.2</td>\n",
       "      <td>386.71</td>\n",
       "      <td>17.10</td>\n",
       "    </tr>\n",
       "  </tbody>\n",
       "</table>\n",
       "</div>"
      ],
      "text/plain": [
       "   ID     crim    zn  indus  chas    nox     rm    age     dis  rad  tax  \\\n",
       "0   3  0.02729   0.0   7.07     0  0.469  7.185   61.1  4.9671    2  242   \n",
       "1   6  0.02985   0.0   2.18     0  0.458  6.430   58.7  6.0622    3  222   \n",
       "2   8  0.14455  12.5   7.87     0  0.524  6.172   96.1  5.9505    5  311   \n",
       "3   9  0.21124  12.5   7.87     0  0.524  5.631  100.0  6.0821    5  311   \n",
       "4  10  0.17004  12.5   7.87     0  0.524  6.004   85.9  6.5921    5  311   \n",
       "\n",
       "   ptratio   black  lstat  \n",
       "0     17.8  392.83   4.03  \n",
       "1     18.7  394.12   5.21  \n",
       "2     15.2  396.90  19.15  \n",
       "3     15.2  386.63  29.93  \n",
       "4     15.2  386.71  17.10  "
      ]
     },
     "execution_count": 5,
     "metadata": {},
     "output_type": "execute_result"
    }
   ],
   "source": [
    "# As well as viewing the head of test file\n",
    "test.head()"
   ]
  },
  {
   "cell_type": "markdown",
   "metadata": {},
   "source": [
    "#### Housing Values in Suburbs of Boston\n",
    "The **medv** variable is the target variable.\n",
    "\n",
    "#### Data description\n",
    "The Boston data frame has 506 rows and 14 columns.\n",
    "\n",
    "This data frame contains the following columns:\n",
    "\n",
    " - **crim :** per capita crime rate by town.\n",
    " - **zn :** proportion of residential land zoned for lots over 25,000 sq.ft.\n",
    " - **indus :** proportion of non-retail business acres per town.\n",
    " - **chas :** Charles River dummy variable (= 1 if tract bounds river; 0 otherwise).\n",
    " - **nox :** nitrogen oxides concentration (parts per 10 million).\n",
    " - **rm :** average number of rooms per dwelling.\n",
    " - **age :** proportion of owner-occupied units built prior to 1940.\n",
    " - **dis :** weighted mean of distances to five Boston employment centres.\n",
    " - **rad :** index of accessibility to radial highways.\n",
    " - **tax :** full-value property-tax rate per \\$10,000.\n",
    " - **ptratio :** pupil-teacher ratio by town.\n",
    " - **black :** 1000(Bk - 0.63)^2 where Bk is the proportion of blacks by town.\n",
    " - **lstat :** lower status of the population (percent).\n",
    " - **medv :** median value of owner-occupied homes in \\$1000s."
   ]
  },
  {
   "cell_type": "code",
   "execution_count": 6,
   "metadata": {},
   "outputs": [
    {
     "data": {
      "text/html": [
       "<div>\n",
       "<style scoped>\n",
       "    .dataframe tbody tr th:only-of-type {\n",
       "        vertical-align: middle;\n",
       "    }\n",
       "\n",
       "    .dataframe tbody tr th {\n",
       "        vertical-align: top;\n",
       "    }\n",
       "\n",
       "    .dataframe thead th {\n",
       "        text-align: right;\n",
       "    }\n",
       "</style>\n",
       "<table border=\"1\" class=\"dataframe\">\n",
       "  <thead>\n",
       "    <tr style=\"text-align: right;\">\n",
       "      <th></th>\n",
       "      <th>count</th>\n",
       "      <th>mean</th>\n",
       "      <th>std</th>\n",
       "      <th>min</th>\n",
       "      <th>25%</th>\n",
       "      <th>50%</th>\n",
       "      <th>75%</th>\n",
       "      <th>max</th>\n",
       "    </tr>\n",
       "  </thead>\n",
       "  <tbody>\n",
       "    <tr>\n",
       "      <th>ID</th>\n",
       "      <td>333.0</td>\n",
       "      <td>250.951952</td>\n",
       "      <td>147.859438</td>\n",
       "      <td>1.00000</td>\n",
       "      <td>123.00000</td>\n",
       "      <td>244.00000</td>\n",
       "      <td>377.00000</td>\n",
       "      <td>506.0000</td>\n",
       "    </tr>\n",
       "    <tr>\n",
       "      <th>crim</th>\n",
       "      <td>333.0</td>\n",
       "      <td>3.360341</td>\n",
       "      <td>7.352272</td>\n",
       "      <td>0.00632</td>\n",
       "      <td>0.07896</td>\n",
       "      <td>0.26169</td>\n",
       "      <td>3.67822</td>\n",
       "      <td>73.5341</td>\n",
       "    </tr>\n",
       "    <tr>\n",
       "      <th>zn</th>\n",
       "      <td>333.0</td>\n",
       "      <td>10.689189</td>\n",
       "      <td>22.674762</td>\n",
       "      <td>0.00000</td>\n",
       "      <td>0.00000</td>\n",
       "      <td>0.00000</td>\n",
       "      <td>12.50000</td>\n",
       "      <td>100.0000</td>\n",
       "    </tr>\n",
       "    <tr>\n",
       "      <th>indus</th>\n",
       "      <td>333.0</td>\n",
       "      <td>11.293483</td>\n",
       "      <td>6.998123</td>\n",
       "      <td>0.74000</td>\n",
       "      <td>5.13000</td>\n",
       "      <td>9.90000</td>\n",
       "      <td>18.10000</td>\n",
       "      <td>27.7400</td>\n",
       "    </tr>\n",
       "    <tr>\n",
       "      <th>chas</th>\n",
       "      <td>333.0</td>\n",
       "      <td>0.060060</td>\n",
       "      <td>0.237956</td>\n",
       "      <td>0.00000</td>\n",
       "      <td>0.00000</td>\n",
       "      <td>0.00000</td>\n",
       "      <td>0.00000</td>\n",
       "      <td>1.0000</td>\n",
       "    </tr>\n",
       "    <tr>\n",
       "      <th>nox</th>\n",
       "      <td>333.0</td>\n",
       "      <td>0.557144</td>\n",
       "      <td>0.114955</td>\n",
       "      <td>0.38500</td>\n",
       "      <td>0.45300</td>\n",
       "      <td>0.53800</td>\n",
       "      <td>0.63100</td>\n",
       "      <td>0.8710</td>\n",
       "    </tr>\n",
       "    <tr>\n",
       "      <th>rm</th>\n",
       "      <td>333.0</td>\n",
       "      <td>6.265619</td>\n",
       "      <td>0.703952</td>\n",
       "      <td>3.56100</td>\n",
       "      <td>5.88400</td>\n",
       "      <td>6.20200</td>\n",
       "      <td>6.59500</td>\n",
       "      <td>8.7250</td>\n",
       "    </tr>\n",
       "    <tr>\n",
       "      <th>age</th>\n",
       "      <td>333.0</td>\n",
       "      <td>68.226426</td>\n",
       "      <td>28.133344</td>\n",
       "      <td>6.00000</td>\n",
       "      <td>45.40000</td>\n",
       "      <td>76.70000</td>\n",
       "      <td>93.80000</td>\n",
       "      <td>100.0000</td>\n",
       "    </tr>\n",
       "    <tr>\n",
       "      <th>dis</th>\n",
       "      <td>333.0</td>\n",
       "      <td>3.709934</td>\n",
       "      <td>1.981123</td>\n",
       "      <td>1.12960</td>\n",
       "      <td>2.12240</td>\n",
       "      <td>3.09230</td>\n",
       "      <td>5.11670</td>\n",
       "      <td>10.7103</td>\n",
       "    </tr>\n",
       "    <tr>\n",
       "      <th>rad</th>\n",
       "      <td>333.0</td>\n",
       "      <td>9.633634</td>\n",
       "      <td>8.742174</td>\n",
       "      <td>1.00000</td>\n",
       "      <td>4.00000</td>\n",
       "      <td>5.00000</td>\n",
       "      <td>24.00000</td>\n",
       "      <td>24.0000</td>\n",
       "    </tr>\n",
       "    <tr>\n",
       "      <th>tax</th>\n",
       "      <td>333.0</td>\n",
       "      <td>409.279279</td>\n",
       "      <td>170.841988</td>\n",
       "      <td>188.00000</td>\n",
       "      <td>279.00000</td>\n",
       "      <td>330.00000</td>\n",
       "      <td>666.00000</td>\n",
       "      <td>711.0000</td>\n",
       "    </tr>\n",
       "    <tr>\n",
       "      <th>ptratio</th>\n",
       "      <td>333.0</td>\n",
       "      <td>18.448048</td>\n",
       "      <td>2.151821</td>\n",
       "      <td>12.60000</td>\n",
       "      <td>17.40000</td>\n",
       "      <td>19.00000</td>\n",
       "      <td>20.20000</td>\n",
       "      <td>21.2000</td>\n",
       "    </tr>\n",
       "    <tr>\n",
       "      <th>black</th>\n",
       "      <td>333.0</td>\n",
       "      <td>359.466096</td>\n",
       "      <td>86.584567</td>\n",
       "      <td>3.50000</td>\n",
       "      <td>376.73000</td>\n",
       "      <td>392.05000</td>\n",
       "      <td>396.24000</td>\n",
       "      <td>396.9000</td>\n",
       "    </tr>\n",
       "    <tr>\n",
       "      <th>lstat</th>\n",
       "      <td>333.0</td>\n",
       "      <td>12.515435</td>\n",
       "      <td>7.067781</td>\n",
       "      <td>1.73000</td>\n",
       "      <td>7.18000</td>\n",
       "      <td>10.97000</td>\n",
       "      <td>16.42000</td>\n",
       "      <td>37.9700</td>\n",
       "    </tr>\n",
       "    <tr>\n",
       "      <th>medv</th>\n",
       "      <td>333.0</td>\n",
       "      <td>22.768769</td>\n",
       "      <td>9.173468</td>\n",
       "      <td>5.00000</td>\n",
       "      <td>17.40000</td>\n",
       "      <td>21.60000</td>\n",
       "      <td>25.00000</td>\n",
       "      <td>50.0000</td>\n",
       "    </tr>\n",
       "  </tbody>\n",
       "</table>\n",
       "</div>"
      ],
      "text/plain": [
       "         count        mean         std        min        25%        50%  \\\n",
       "ID       333.0  250.951952  147.859438    1.00000  123.00000  244.00000   \n",
       "crim     333.0    3.360341    7.352272    0.00632    0.07896    0.26169   \n",
       "zn       333.0   10.689189   22.674762    0.00000    0.00000    0.00000   \n",
       "indus    333.0   11.293483    6.998123    0.74000    5.13000    9.90000   \n",
       "chas     333.0    0.060060    0.237956    0.00000    0.00000    0.00000   \n",
       "nox      333.0    0.557144    0.114955    0.38500    0.45300    0.53800   \n",
       "rm       333.0    6.265619    0.703952    3.56100    5.88400    6.20200   \n",
       "age      333.0   68.226426   28.133344    6.00000   45.40000   76.70000   \n",
       "dis      333.0    3.709934    1.981123    1.12960    2.12240    3.09230   \n",
       "rad      333.0    9.633634    8.742174    1.00000    4.00000    5.00000   \n",
       "tax      333.0  409.279279  170.841988  188.00000  279.00000  330.00000   \n",
       "ptratio  333.0   18.448048    2.151821   12.60000   17.40000   19.00000   \n",
       "black    333.0  359.466096   86.584567    3.50000  376.73000  392.05000   \n",
       "lstat    333.0   12.515435    7.067781    1.73000    7.18000   10.97000   \n",
       "medv     333.0   22.768769    9.173468    5.00000   17.40000   21.60000   \n",
       "\n",
       "               75%       max  \n",
       "ID       377.00000  506.0000  \n",
       "crim       3.67822   73.5341  \n",
       "zn        12.50000  100.0000  \n",
       "indus     18.10000   27.7400  \n",
       "chas       0.00000    1.0000  \n",
       "nox        0.63100    0.8710  \n",
       "rm         6.59500    8.7250  \n",
       "age       93.80000  100.0000  \n",
       "dis        5.11670   10.7103  \n",
       "rad       24.00000   24.0000  \n",
       "tax      666.00000  711.0000  \n",
       "ptratio   20.20000   21.2000  \n",
       "black    396.24000  396.9000  \n",
       "lstat     16.42000   37.9700  \n",
       "medv      25.00000   50.0000  "
      ]
     },
     "execution_count": 6,
     "metadata": {},
     "output_type": "execute_result"
    }
   ],
   "source": [
    "# Description of train dataset\n",
    "train.describe(include='all').T"
   ]
  },
  {
   "cell_type": "code",
   "execution_count": 7,
   "metadata": {},
   "outputs": [
    {
     "name": "stdout",
     "output_type": "stream",
     "text": [
      "<class 'pandas.core.frame.DataFrame'>\n",
      "RangeIndex: 333 entries, 0 to 332\n",
      "Data columns (total 15 columns):\n",
      "ID         333 non-null int64\n",
      "crim       333 non-null float64\n",
      "zn         333 non-null float64\n",
      "indus      333 non-null float64\n",
      "chas       333 non-null int64\n",
      "nox        333 non-null float64\n",
      "rm         333 non-null float64\n",
      "age        333 non-null float64\n",
      "dis        333 non-null float64\n",
      "rad        333 non-null int64\n",
      "tax        333 non-null int64\n",
      "ptratio    333 non-null float64\n",
      "black      333 non-null float64\n",
      "lstat      333 non-null float64\n",
      "medv       333 non-null float64\n",
      "dtypes: float64(11), int64(4)\n",
      "memory usage: 39.1 KB\n"
     ]
    }
   ],
   "source": [
    "# Columns information with null count\n",
    "train.info()"
   ]
  },
  {
   "cell_type": "code",
   "execution_count": 8,
   "metadata": {},
   "outputs": [
    {
     "data": {
      "image/png": "[encoded data removed]",
      "text/plain": [
       "<Figure size 576x360 with 1 Axes>"
      ]
     },
     "metadata": {
      "needs_background": "light"
     },
     "output_type": "display_data"
    }
   ],
   "source": [
    "# Viewing the distribution of target column\n",
    "plt.figure(figsize=(8,5))\n",
    "sns.distplot(train['medv'])\n",
    "plt.show()"
   ]
  },
  {
   "cell_type": "code",
   "execution_count": 9,
   "metadata": {},
   "outputs": [
    {
     "data": {
      "image/png": "[encoded data removed]",
      "text/plain": [
       "<Figure size 576x216 with 1 Axes>"
      ]
     },
     "metadata": {
      "needs_background": "light"
     },
     "output_type": "display_data"
    }
   ],
   "source": [
    "# Viewing the distribution of target column by boxplot\n",
    "plt.figure(figsize=(8,3))\n",
    "sns.boxplot(train['medv'])\n",
    "plt.show()"
   ]
  },
  {
   "cell_type": "code",
   "execution_count": 10,
   "metadata": {},
   "outputs": [
    {
     "data": {
      "image/png": "[encoded data removed]",
      "text/plain": [
       "<Figure size 1080x936 with 2 Axes>"
      ]
     },
     "metadata": {
      "needs_background": "light"
     },
     "output_type": "display_data"
    }
   ],
   "source": [
    "# Correlation of train dataset \n",
    "plt.figure(figsize=(15,13))\n",
    "sns.heatmap(train.corr(), annot = True)\n",
    "plt.show()"
   ]
  },
  {
   "cell_type": "code",
   "execution_count": 11,
   "metadata": {},
   "outputs": [],
   "source": [
    "# Creating predict and target columns\n",
    "x = train.drop('medv', axis = 1)\n",
    "y = train.medv"
   ]
  },
  {
   "cell_type": "code",
   "execution_count": 12,
   "metadata": {},
   "outputs": [],
   "source": [
    "# droping the not needed columns\n",
    "x = x.drop(['ID','zn','chas','age','dis','rad','black'], axis = 1)"
   ]
  },
  {
   "cell_type": "code",
   "execution_count": 13,
   "metadata": {},
   "outputs": [
    {
     "data": {
      "text/html": [
       "<div>\n",
       "<style scoped>\n",
       "    .dataframe tbody tr th:only-of-type {\n",
       "        vertical-align: middle;\n",
       "    }\n",
       "\n",
       "    .dataframe tbody tr th {\n",
       "        vertical-align: top;\n",
       "    }\n",
       "\n",
       "    .dataframe thead th {\n",
       "        text-align: right;\n",
       "    }\n",
       "</style>\n",
       "<table border=\"1\" class=\"dataframe\">\n",
       "  <thead>\n",
       "    <tr style=\"text-align: right;\">\n",
       "      <th></th>\n",
       "      <th>crim</th>\n",
       "      <th>indus</th>\n",
       "      <th>nox</th>\n",
       "      <th>rm</th>\n",
       "      <th>tax</th>\n",
       "      <th>ptratio</th>\n",
       "      <th>lstat</th>\n",
       "    </tr>\n",
       "  </thead>\n",
       "  <tbody>\n",
       "    <tr>\n",
       "      <th>0</th>\n",
       "      <td>0.00632</td>\n",
       "      <td>2.31</td>\n",
       "      <td>0.538</td>\n",
       "      <td>6.575</td>\n",
       "      <td>296</td>\n",
       "      <td>15.3</td>\n",
       "      <td>4.98</td>\n",
       "    </tr>\n",
       "    <tr>\n",
       "      <th>1</th>\n",
       "      <td>0.02731</td>\n",
       "      <td>7.07</td>\n",
       "      <td>0.469</td>\n",
       "      <td>6.421</td>\n",
       "      <td>242</td>\n",
       "      <td>17.8</td>\n",
       "      <td>9.14</td>\n",
       "    </tr>\n",
       "    <tr>\n",
       "      <th>2</th>\n",
       "      <td>0.03237</td>\n",
       "      <td>2.18</td>\n",
       "      <td>0.458</td>\n",
       "      <td>6.998</td>\n",
       "      <td>222</td>\n",
       "      <td>18.7</td>\n",
       "      <td>2.94</td>\n",
       "    </tr>\n",
       "    <tr>\n",
       "      <th>3</th>\n",
       "      <td>0.06905</td>\n",
       "      <td>2.18</td>\n",
       "      <td>0.458</td>\n",
       "      <td>7.147</td>\n",
       "      <td>222</td>\n",
       "      <td>18.7</td>\n",
       "      <td>5.33</td>\n",
       "    </tr>\n",
       "    <tr>\n",
       "      <th>4</th>\n",
       "      <td>0.08829</td>\n",
       "      <td>7.87</td>\n",
       "      <td>0.524</td>\n",
       "      <td>6.012</td>\n",
       "      <td>311</td>\n",
       "      <td>15.2</td>\n",
       "      <td>12.43</td>\n",
       "    </tr>\n",
       "  </tbody>\n",
       "</table>\n",
       "</div>"
      ],
      "text/plain": [
       "      crim  indus    nox     rm  tax  ptratio  lstat\n",
       "0  0.00632   2.31  0.538  6.575  296     15.3   4.98\n",
       "1  0.02731   7.07  0.469  6.421  242     17.8   9.14\n",
       "2  0.03237   2.18  0.458  6.998  222     18.7   2.94\n",
       "3  0.06905   2.18  0.458  7.147  222     18.7   5.33\n",
       "4  0.08829   7.87  0.524  6.012  311     15.2  12.43"
      ]
     },
     "execution_count": 13,
     "metadata": {},
     "output_type": "execute_result"
    }
   ],
   "source": [
    "# After droping checking the head of predict columns\n",
    "x.head()"
   ]
  },
  {
   "cell_type": "code",
   "execution_count": 14,
   "metadata": {},
   "outputs": [
    {
     "data": {
      "text/plain": [
       "(333, 7)"
      ]
     },
     "execution_count": 14,
     "metadata": {},
     "output_type": "execute_result"
    }
   ],
   "source": [
    "# Shape of predict columns\n",
    "x.shape"
   ]
  },
  {
   "cell_type": "code",
   "execution_count": 15,
   "metadata": {},
   "outputs": [
    {
     "name": "stdout",
     "output_type": "stream",
     "text": [
      "RMSE Score :  6.370835266435323\n",
      "R2 Score :  0.5850565604618038\n"
     ]
    }
   ],
   "source": [
    "# Spliting dataset for train and test\n",
    "xtrain, xtest, ytrain, ytest = train_test_split(x,y, test_size = .25, random_state = 6)\n",
    "\n",
    "# Fitting model to xtrain and ytrain\n",
    "lr.fit(xtrain,ytrain)\n",
    "\n",
    "#Predicting xtest\n",
    "model_lr_pred = lr.predict(xtest)\n",
    "\n",
    "# Checking the rmse and R2 score\n",
    "rmse = np.sqrt(mean_squared_error(ytest, model_lr_pred))\n",
    "R2 = r2_score(ytest, model_lr_pred)\n",
    "\n",
    "# Printing the scores\n",
    "print('RMSE Score : ', rmse)\n",
    "print('R2 Score : ', R2)"
   ]
  },
  {
   "cell_type": "code",
   "execution_count": 16,
   "metadata": {},
   "outputs": [
    {
     "name": "stdout",
     "output_type": "stream",
     "text": [
      "RMSE Score :  3.2855100432064503\n",
      "R2 Score :  0.871339674821565\n"
     ]
    }
   ],
   "source": [
    "# Applying polynomial regression\n",
    "polynomial_features= PolynomialFeatures(degree=2)\n",
    "x_poly = polynomial_features.fit_transform(x)\n",
    "\n",
    "# Applying polynomial to linear regression\n",
    "lr = LinearRegression()\n",
    "lr.fit(x_poly, y)\n",
    "\n",
    "# Predicting target after applying polynomial regression\n",
    "y_poly_pred = lr.predict(x_poly)\n",
    "\n",
    "# Checking the scores\n",
    "rmse = np.sqrt(mean_squared_error(y,y_poly_pred))\n",
    "R2 = r2_score(y,y_poly_pred)\n",
    "print('RMSE Score : ', rmse)\n",
    "print('R2 Score : ', R2)"
   ]
  },
  {
   "cell_type": "code",
   "execution_count": 17,
   "metadata": {},
   "outputs": [
    {
     "data": {
      "text/plain": [
       "(333, 36)"
      ]
     },
     "execution_count": 17,
     "metadata": {},
     "output_type": "execute_result"
    }
   ],
   "source": [
    "# Checking the shape of x after applying polynomial regression\n",
    "x_poly.shape"
   ]
  },
  {
   "cell_type": "markdown",
   "metadata": {},
   "source": [
    "#### As i am getting better scores after applying polynomial regression, for the final prediction i will go with polynomial regression"
   ]
  },
  {
   "cell_type": "markdown",
   "metadata": {},
   "source": [
    "### Final application on test data"
   ]
  },
  {
   "cell_type": "code",
   "execution_count": 18,
   "metadata": {},
   "outputs": [
    {
     "data": {
      "text/html": [
       "<div>\n",
       "<style scoped>\n",
       "    .dataframe tbody tr th:only-of-type {\n",
       "        vertical-align: middle;\n",
       "    }\n",
       "\n",
       "    .dataframe tbody tr th {\n",
       "        vertical-align: top;\n",
       "    }\n",
       "\n",
       "    .dataframe thead th {\n",
       "        text-align: right;\n",
       "    }\n",
       "</style>\n",
       "<table border=\"1\" class=\"dataframe\">\n",
       "  <thead>\n",
       "    <tr style=\"text-align: right;\">\n",
       "      <th></th>\n",
       "      <th>ID</th>\n",
       "      <th>crim</th>\n",
       "      <th>zn</th>\n",
       "      <th>indus</th>\n",
       "      <th>chas</th>\n",
       "      <th>nox</th>\n",
       "      <th>rm</th>\n",
       "      <th>age</th>\n",
       "      <th>dis</th>\n",
       "      <th>rad</th>\n",
       "      <th>tax</th>\n",
       "      <th>ptratio</th>\n",
       "      <th>black</th>\n",
       "      <th>lstat</th>\n",
       "    </tr>\n",
       "  </thead>\n",
       "  <tbody>\n",
       "    <tr>\n",
       "      <th>0</th>\n",
       "      <td>3</td>\n",
       "      <td>0.02729</td>\n",
       "      <td>0.0</td>\n",
       "      <td>7.07</td>\n",
       "      <td>0</td>\n",
       "      <td>0.469</td>\n",
       "      <td>7.185</td>\n",
       "      <td>61.1</td>\n",
       "      <td>4.9671</td>\n",
       "      <td>2</td>\n",
       "      <td>242</td>\n",
       "      <td>17.8</td>\n",
       "      <td>392.83</td>\n",
       "      <td>4.03</td>\n",
       "    </tr>\n",
       "    <tr>\n",
       "      <th>1</th>\n",
       "      <td>6</td>\n",
       "      <td>0.02985</td>\n",
       "      <td>0.0</td>\n",
       "      <td>2.18</td>\n",
       "      <td>0</td>\n",
       "      <td>0.458</td>\n",
       "      <td>6.430</td>\n",
       "      <td>58.7</td>\n",
       "      <td>6.0622</td>\n",
       "      <td>3</td>\n",
       "      <td>222</td>\n",
       "      <td>18.7</td>\n",
       "      <td>394.12</td>\n",
       "      <td>5.21</td>\n",
       "    </tr>\n",
       "    <tr>\n",
       "      <th>2</th>\n",
       "      <td>8</td>\n",
       "      <td>0.14455</td>\n",
       "      <td>12.5</td>\n",
       "      <td>7.87</td>\n",
       "      <td>0</td>\n",
       "      <td>0.524</td>\n",
       "      <td>6.172</td>\n",
       "      <td>96.1</td>\n",
       "      <td>5.9505</td>\n",
       "      <td>5</td>\n",
       "      <td>311</td>\n",
       "      <td>15.2</td>\n",
       "      <td>396.90</td>\n",
       "      <td>19.15</td>\n",
       "    </tr>\n",
       "    <tr>\n",
       "      <th>3</th>\n",
       "      <td>9</td>\n",
       "      <td>0.21124</td>\n",
       "      <td>12.5</td>\n",
       "      <td>7.87</td>\n",
       "      <td>0</td>\n",
       "      <td>0.524</td>\n",
       "      <td>5.631</td>\n",
       "      <td>100.0</td>\n",
       "      <td>6.0821</td>\n",
       "      <td>5</td>\n",
       "      <td>311</td>\n",
       "      <td>15.2</td>\n",
       "      <td>386.63</td>\n",
       "      <td>29.93</td>\n",
       "    </tr>\n",
       "    <tr>\n",
       "      <th>4</th>\n",
       "      <td>10</td>\n",
       "      <td>0.17004</td>\n",
       "      <td>12.5</td>\n",
       "      <td>7.87</td>\n",
       "      <td>0</td>\n",
       "      <td>0.524</td>\n",
       "      <td>6.004</td>\n",
       "      <td>85.9</td>\n",
       "      <td>6.5921</td>\n",
       "      <td>5</td>\n",
       "      <td>311</td>\n",
       "      <td>15.2</td>\n",
       "      <td>386.71</td>\n",
       "      <td>17.10</td>\n",
       "    </tr>\n",
       "  </tbody>\n",
       "</table>\n",
       "</div>"
      ],
      "text/plain": [
       "   ID     crim    zn  indus  chas    nox     rm    age     dis  rad  tax  \\\n",
       "0   3  0.02729   0.0   7.07     0  0.469  7.185   61.1  4.9671    2  242   \n",
       "1   6  0.02985   0.0   2.18     0  0.458  6.430   58.7  6.0622    3  222   \n",
       "2   8  0.14455  12.5   7.87     0  0.524  6.172   96.1  5.9505    5  311   \n",
       "3   9  0.21124  12.5   7.87     0  0.524  5.631  100.0  6.0821    5  311   \n",
       "4  10  0.17004  12.5   7.87     0  0.524  6.004   85.9  6.5921    5  311   \n",
       "\n",
       "   ptratio   black  lstat  \n",
       "0     17.8  392.83   4.03  \n",
       "1     18.7  394.12   5.21  \n",
       "2     15.2  396.90  19.15  \n",
       "3     15.2  386.63  29.93  \n",
       "4     15.2  386.71  17.10  "
      ]
     },
     "execution_count": 18,
     "metadata": {},
     "output_type": "execute_result"
    }
   ],
   "source": [
    "# Viewing the head of test data\n",
    "test.head()"
   ]
  },
  {
   "cell_type": "code",
   "execution_count": 19,
   "metadata": {},
   "outputs": [],
   "source": [
    "# Droping the not needed columns\n",
    "test = test.drop(['ID','zn','chas','age','dis','rad','black'], axis = 1)"
   ]
  },
  {
   "cell_type": "code",
   "execution_count": 20,
   "metadata": {},
   "outputs": [
    {
     "data": {
      "text/html": [
       "<div>\n",
       "<style scoped>\n",
       "    .dataframe tbody tr th:only-of-type {\n",
       "        vertical-align: middle;\n",
       "    }\n",
       "\n",
       "    .dataframe tbody tr th {\n",
       "        vertical-align: top;\n",
       "    }\n",
       "\n",
       "    .dataframe thead th {\n",
       "        text-align: right;\n",
       "    }\n",
       "</style>\n",
       "<table border=\"1\" class=\"dataframe\">\n",
       "  <thead>\n",
       "    <tr style=\"text-align: right;\">\n",
       "      <th></th>\n",
       "      <th>crim</th>\n",
       "      <th>indus</th>\n",
       "      <th>nox</th>\n",
       "      <th>rm</th>\n",
       "      <th>tax</th>\n",
       "      <th>ptratio</th>\n",
       "      <th>lstat</th>\n",
       "    </tr>\n",
       "  </thead>\n",
       "  <tbody>\n",
       "    <tr>\n",
       "      <th>0</th>\n",
       "      <td>0.02729</td>\n",
       "      <td>7.07</td>\n",
       "      <td>0.469</td>\n",
       "      <td>7.185</td>\n",
       "      <td>242</td>\n",
       "      <td>17.8</td>\n",
       "      <td>4.03</td>\n",
       "    </tr>\n",
       "    <tr>\n",
       "      <th>1</th>\n",
       "      <td>0.02985</td>\n",
       "      <td>2.18</td>\n",
       "      <td>0.458</td>\n",
       "      <td>6.430</td>\n",
       "      <td>222</td>\n",
       "      <td>18.7</td>\n",
       "      <td>5.21</td>\n",
       "    </tr>\n",
       "    <tr>\n",
       "      <th>2</th>\n",
       "      <td>0.14455</td>\n",
       "      <td>7.87</td>\n",
       "      <td>0.524</td>\n",
       "      <td>6.172</td>\n",
       "      <td>311</td>\n",
       "      <td>15.2</td>\n",
       "      <td>19.15</td>\n",
       "    </tr>\n",
       "    <tr>\n",
       "      <th>3</th>\n",
       "      <td>0.21124</td>\n",
       "      <td>7.87</td>\n",
       "      <td>0.524</td>\n",
       "      <td>5.631</td>\n",
       "      <td>311</td>\n",
       "      <td>15.2</td>\n",
       "      <td>29.93</td>\n",
       "    </tr>\n",
       "    <tr>\n",
       "      <th>4</th>\n",
       "      <td>0.17004</td>\n",
       "      <td>7.87</td>\n",
       "      <td>0.524</td>\n",
       "      <td>6.004</td>\n",
       "      <td>311</td>\n",
       "      <td>15.2</td>\n",
       "      <td>17.10</td>\n",
       "    </tr>\n",
       "  </tbody>\n",
       "</table>\n",
       "</div>"
      ],
      "text/plain": [
       "      crim  indus    nox     rm  tax  ptratio  lstat\n",
       "0  0.02729   7.07  0.469  7.185  242     17.8   4.03\n",
       "1  0.02985   2.18  0.458  6.430  222     18.7   5.21\n",
       "2  0.14455   7.87  0.524  6.172  311     15.2  19.15\n",
       "3  0.21124   7.87  0.524  5.631  311     15.2  29.93\n",
       "4  0.17004   7.87  0.524  6.004  311     15.2  17.10"
      ]
     },
     "execution_count": 20,
     "metadata": {},
     "output_type": "execute_result"
    }
   ],
   "source": [
    "# After droping checking the head of predict columns\n",
    "test.head()"
   ]
  },
  {
   "cell_type": "code",
   "execution_count": 21,
   "metadata": {},
   "outputs": [
    {
     "data": {
      "text/plain": [
       "(173, 7)"
      ]
     },
     "execution_count": 21,
     "metadata": {},
     "output_type": "execute_result"
    }
   ],
   "source": [
    "# Checking the shpe of the test dataset after droping columns\n",
    "test.shape"
   ]
  },
  {
   "cell_type": "code",
   "execution_count": 22,
   "metadata": {},
   "outputs": [],
   "source": [
    "# Applying polynomial regression\n",
    "test_poly = polynomial_features.fit_transform(test)"
   ]
  },
  {
   "cell_type": "code",
   "execution_count": 23,
   "metadata": {},
   "outputs": [
    {
     "data": {
      "text/plain": [
       "(173, 36)"
      ]
     },
     "execution_count": 23,
     "metadata": {},
     "output_type": "execute_result"
    }
   ],
   "source": [
    "# Checking the shape of x after applying polynomial regression\n",
    "test_poly.shape"
   ]
  },
  {
   "cell_type": "code",
   "execution_count": 24,
   "metadata": {},
   "outputs": [],
   "source": [
    "# Droping the not needed columns\n",
    "train = train.drop(['ID','zn','chas','age','dis','rad','black'], axis = 1)"
   ]
  },
  {
   "cell_type": "code",
   "execution_count": 25,
   "metadata": {},
   "outputs": [],
   "source": [
    "# Creating predict and target columns\n",
    "x = train.drop('medv', axis = 1)\n",
    "y = train.medv"
   ]
  },
  {
   "cell_type": "code",
   "execution_count": 26,
   "metadata": {},
   "outputs": [
    {
     "data": {
      "text/plain": [
       "LinearRegression(copy_X=True, fit_intercept=True, n_jobs=None,\n",
       "         normalize=False)"
      ]
     },
     "execution_count": 26,
     "metadata": {},
     "output_type": "execute_result"
    }
   ],
   "source": [
    "# Fitting normal linear regression\n",
    "lr.fit(x,y)"
   ]
  },
  {
   "cell_type": "code",
   "execution_count": 27,
   "metadata": {},
   "outputs": [
    {
     "data": {
      "text/plain": [
       "array([32.54738457, 27.28981733, 20.66831159, 11.50529076, 21.20099305,\n",
       "       17.88922132, 18.83607639, 16.57421769, 14.9913355 , 17.01081604,\n",
       "       21.31515124, 22.62829259,  9.5504942 , 14.29592349, 22.11033574,\n",
       "       20.61674232, 22.30917529, 30.11991749,  7.74300069, 29.48669706,\n",
       "       21.93523093, 25.85642382, 22.77044622, 22.61770322, 22.79257049,\n",
       "       23.22138738, 25.76048541, 26.09175294, 27.00289793, 27.88003642,\n",
       "       35.85679188, 35.14510362, 31.70085306, 20.23448239, 16.23199282,\n",
       "       19.94016062, 19.29410848, 19.5430459 , 19.64283261, 20.91425909,\n",
       "       14.88072482, 22.13915796, 22.68177511, 18.8614393 , 13.63564777,\n",
       "       13.97256422,  9.6502982 , 20.79821277, 21.90562208, 20.88004832,\n",
       "       24.16140317, 34.51870924, 40.02763853, 27.65927257, 18.86264808,\n",
       "       21.83419089, 31.16907783, 38.55965462, 36.78972258, 35.14197246,\n",
       "       31.41919814, 37.12863724, 17.11023184, 12.00170228, 18.39509008,\n",
       "       18.48785623, 24.2683996 , 28.22050551, 19.9833963 , 26.51214726,\n",
       "       28.11745707, 35.02735598, 32.97144435, 33.0523962 , 28.75595815,\n",
       "       28.68217554, 23.25173789, 15.26907133, 23.24367812, 30.651678  ,\n",
       "       27.04124339, 24.32768475, 35.68278698, 42.12048549, 34.32593389,\n",
       "       32.68987116, 38.93200327, 20.22496809, 20.3463086 , 31.85046469,\n",
       "       31.77377012, 30.98682383, 27.55402224, 37.66052712, 27.11750717,\n",
       "       27.22431343, 31.39955482, 25.40092856, 30.97391853, 30.26117402,\n",
       "       33.51380631, 31.92208368, 27.94082493, 25.65138122, 26.13230732,\n",
       "       21.94549151, 25.64471043, 23.62927897, 19.61333163, 25.80969897,\n",
       "       26.9678442 , 21.33367529, 25.66421633, 22.74431573, 20.51411257,\n",
       "       22.15048988, 20.29309263, 26.13165049, 28.00138886, 30.52889789,\n",
       "       19.32285008, 22.09445972, 20.40834972, 18.12643122, 37.33247894,\n",
       "       29.04503785, 25.76269043, 15.18792809, 15.6712576 , 21.99202198,\n",
       "       17.54385268,  5.75964289,  4.10070945, 16.26288392, 19.63204806,\n",
       "       19.65345263, 14.66532975,  8.84863537, 17.35935094,  9.09499424,\n",
       "       12.5770563 ,  5.40111793, 19.80971559, 21.03957491, 18.03678168,\n",
       "        0.75306676, 15.63614662, 20.67591859, 18.43378763, 17.96319352,\n",
       "       14.23447275, 17.84656052, 18.90150599, 16.4615378 , 18.98424266,\n",
       "        6.63849959, 18.59576839, 18.01677807, 20.66850792, 19.78510101,\n",
       "       16.22945277, 18.93474758, 25.42585425, 14.02375918, 28.79267335,\n",
       "       23.15138953, 11.62585431, 19.7926518 , 16.13934028, 12.67338075,\n",
       "       20.62728824, 19.78053229, 26.91973895])"
      ]
     },
     "execution_count": 27,
     "metadata": {},
     "output_type": "execute_result"
    }
   ],
   "source": [
    "# Prediction after normal linear regression\n",
    "lr.predict(test)"
   ]
  },
  {
   "cell_type": "code",
   "execution_count": 28,
   "metadata": {},
   "outputs": [],
   "source": [
    "# Applying polynomial to linear regression\n",
    "lr = LinearRegression()\n",
    "lr.fit(x_poly, y)\n",
    "\n",
    "# Making prediction after applying model\n",
    "y_poly_pred = lr.predict(test_poly)"
   ]
  },
  {
   "cell_type": "code",
   "execution_count": 29,
   "metadata": {},
   "outputs": [
    {
     "data": {
      "text/plain": [
       "array([35.3486579 , 26.86928186, 20.89396482, 24.18387454, 20.16972803,\n",
       "       16.56531087, 16.78094836, 16.33469936, 15.4259524 , 16.31934281,\n",
       "       18.74804334, 19.32356563, 19.68067027, 15.14999079, 20.92662041,\n",
       "       19.83601968, 20.92862018, 30.90372041, 28.5402769 , 29.53836021,\n",
       "       20.44595312, 24.77890445, 19.89968761, 18.45259643, 17.08319864,\n",
       "       19.16432886, 24.32111588, 25.38916831, 24.37757435, 27.54487866,\n",
       "       41.92515852, 40.33337437, 34.05301667, 19.61189807, 17.28715302,\n",
       "       19.36862909, 16.32202971, 16.45509621, 16.58248664, 19.86174845,\n",
       "       13.98724704, 20.3819487 , 21.38621072, 15.50599357, 12.65075788,\n",
       "       14.36134113, 15.5999752 , 15.02463182, 16.08749837, 15.66030886,\n",
       "       17.72956645, 37.0165184 , 49.10189022, 24.28530316, 21.50308241,\n",
       "       24.52761683, 27.46927557, 46.70908069, 35.91854698, 32.79281439,\n",
       "       30.47143759, 39.62541406, 18.07581499, 18.12399063, 18.73955256,\n",
       "       18.31463479, 22.58964596, 28.31543019, 20.81263313, 26.06857654,\n",
       "       27.80445526, 39.27771439, 35.35908474, 35.51169003, 27.03897469,\n",
       "       27.0472259 , 20.60208557, 16.49947009, 21.04805764, 31.69098501,\n",
       "       23.17961797, 19.69097274, 40.18879662, 54.86381599, 36.93480279,\n",
       "       32.62233559, 49.29635702, 20.79597897, 20.28079374, 33.62886764,\n",
       "       33.67135011, 32.13059142, 26.87656736, 46.58210063, 24.03545073,\n",
       "       24.59977444, 32.68651261, 19.99823453, 28.38775815, 25.31861943,\n",
       "       31.46271478, 28.39732677, 29.0187637 , 24.582127  , 25.00565986,\n",
       "       20.64995968, 24.50349933, 21.91351198, 18.57022066, 24.56774588,\n",
       "       23.20381546, 18.42561153, 22.78977863, 20.92880383, 19.55015917,\n",
       "       20.17714889, 18.6525028 , 25.65871633, 26.97932697, 32.53224626,\n",
       "       19.2693468 , 21.80557261, 19.25173483, 18.67885988, 43.78310951,\n",
       "       41.20561689, 22.90151598,  9.20394307, 11.30987154, 19.44694044,\n",
       "       12.09938552,  8.85245126, 10.92585265, 17.12093787, 19.00581459,\n",
       "       16.64911662, 14.41109805,  8.94528799, 13.15864599,  4.01750475,\n",
       "        3.48332599, 13.83059001, 14.50343602, 30.00209579, 12.8463877 ,\n",
       "       12.63678895,  8.78825232, 18.18902912, 18.10152103, 21.2578207 ,\n",
       "       11.48923569, 19.20873739, 16.49685333,  9.20298733, 13.09648792,\n",
       "        7.13945759, 15.29333878, 14.08959237, 16.26565889, 14.35151791,\n",
       "       15.29181571, 17.98777638, 25.86426041, 10.33428606, 34.35728362,\n",
       "       26.68370405,  8.91791256, 18.45875605, 16.75187304, 16.39180151,\n",
       "       19.11017812, 18.46655297, 25.50192205])"
      ]
     },
     "execution_count": 29,
     "metadata": {},
     "output_type": "execute_result"
    }
   ],
   "source": [
    "y_poly_pred"
   ]
  }
 ],
 "metadata": {
  "kernelspec": {
   "display_name": "Python 3",
   "language": "python",
   "name": "python3"
  },
  "language_info": {
   "codemirror_mode": {
    "name": "ipython",
    "version": 3
   },
   "file_extension": ".py",
   "mimetype": "text/x-python",
   "name": "python",
   "nbconvert_exporter": "python",
   "pygments_lexer": "ipython3",
   "version": "3.7.3"
  }
 },
 "nbformat": 4,
 "nbformat_minor": 2
}
